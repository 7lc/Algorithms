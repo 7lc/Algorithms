{
 "cells": [
  {
   "cell_type": "code",
   "execution_count": 110,
   "metadata": {
    "collapsed": false
   },
   "outputs": [],
   "source": [
    "def InsertionSort_Increasing_Order(array):\n",
    "    #sorting a list of an array by insertion sort\n",
    "    #Eg. A = [31,41,59,26,41,58]\n",
    "    \n",
    "    #start sorting the array by evaluating the value of the array from j = 0.\n",
    "    #the loop ends when j > (length of the array), in this case, the length of the array A is 6.\n",
    "    #the range() method exclude the last element which is the value 6, so the j value only incremented to 0 to 5.\n",
    "    #we need to evaluate the array from index 0 to 5, since array index starts with 0 not 1.\n",
    "    \n",
    "    for j in range(1,len(array)):\n",
    "    \n",
    "        #set key as current value\n",
    "        key = array[j]\n",
    "        \n",
    "        #set i for comparison, the initial value for i is 0. we can compare the index i with j\n",
    "        i = j-1\n",
    "        \n",
    "        #use while loop to compare the current value with previous value\n",
    "        while i >= 0 and array[i] > key:\n",
    "        \n",
    "            #if i>=0 and the value of the array greater than current key value, then swap the values\n",
    "            array[i+1] = array[i]\n",
    "            i = i-1\n",
    "        #set the new key value at the current evaluation position.\n",
    "        array[i+1] = key\n"
   ]
  },
  {
   "cell_type": "code",
   "execution_count": 111,
   "metadata": {
    "collapsed": true
   },
   "outputs": [],
   "source": [
    "A = [50,31,41,31,59,26,41,58,1]"
   ]
  },
  {
   "cell_type": "code",
   "execution_count": 112,
   "metadata": {
    "collapsed": false
   },
   "outputs": [
    {
     "data": {
      "text/plain": [
       "9"
      ]
     },
     "execution_count": 112,
     "metadata": {},
     "output_type": "execute_result"
    }
   ],
   "source": [
    "len(A)"
   ]
  },
  {
   "cell_type": "code",
   "execution_count": 113,
   "metadata": {
    "collapsed": false
   },
   "outputs": [
    {
     "name": "stdout",
     "output_type": "stream",
     "text": [
      "[1, 26, 31, 31, 41, 41, 50, 58, 59]\n"
     ]
    }
   ],
   "source": [
    "InsertionSort(A)\n",
    "print(A)"
   ]
  },
  {
   "cell_type": "code",
   "execution_count": 114,
   "metadata": {
    "collapsed": true
   },
   "outputs": [],
   "source": [
    "def InsertionSort_Decreasing_Order(array):\n",
    "    #sorting a list of an array by insertion sort\n",
    "    #Eg. A = [31,41,59,26,41,58]\n",
    "    \n",
    "    #start sorting the array by evaluating the value of the array from j = 0.\n",
    "    #the loop ends when j > (length of the array), in this case, the length of the array A is 6.\n",
    "    #the range() method exclude the last element which is the value 6, so the j value only incremented to 0 to 5.\n",
    "    #we need to evaluate the array from index 0 to 5, since array index starts with 0 not 1.\n",
    "    \n",
    "    for j in range(1,len(array)):\n",
    "    \n",
    "        #set key as current value\n",
    "        key = array[j]\n",
    "        \n",
    "        #set i for comparison, the initial value for i is 0. we can compare the index i with j\n",
    "        i = j-1\n",
    "        \n",
    "        #use while loop to compare the current value with previous value\n",
    "        while i >= 0 and array[i] < key:\n",
    "        \n",
    "            #if i>=0 and the value of the array greater than current key value, then swap the values\n",
    "            array[i+1] = array[i]\n",
    "            i = i-1\n",
    "        #set the new key value at the current evaluation position.\n",
    "        array[i+1] = key\n",
    "\n"
   ]
  },
  {
   "cell_type": "code",
   "execution_count": 115,
   "metadata": {
    "collapsed": true
   },
   "outputs": [],
   "source": [
    "B = [90,31,41,31,59,26,41,58,1]"
   ]
  },
  {
   "cell_type": "code",
   "execution_count": 116,
   "metadata": {
    "collapsed": false
   },
   "outputs": [
    {
     "name": "stdout",
     "output_type": "stream",
     "text": [
      "[90, 59, 58, 41, 41, 31, 31, 26, 1]\n"
     ]
    }
   ],
   "source": [
    "InsertionSort_Down(B)\n",
    "print(B)"
   ]
  }
 ],
 "metadata": {
  "anaconda-cloud": {},
  "kernelspec": {
   "display_name": "Python [conda env:py27]",
   "language": "python",
   "name": "conda-env-py27-py"
  },
  "language_info": {
   "codemirror_mode": {
    "name": "ipython",
    "version": 2
   },
   "file_extension": ".py",
   "mimetype": "text/x-python",
   "name": "python",
   "nbconvert_exporter": "python",
   "pygments_lexer": "ipython2",
   "version": "2.7.12"
  }
 },
 "nbformat": 4,
 "nbformat_minor": 2
}
